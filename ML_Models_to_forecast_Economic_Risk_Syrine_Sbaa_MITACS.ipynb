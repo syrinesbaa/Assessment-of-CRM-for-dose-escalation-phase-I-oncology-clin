{
  "nbformat": 4,
  "nbformat_minor": 0,
  "metadata": {
    "colab": {
      "provenance": [],
      "authorship_tag": "ABX9TyMMq1ex+QzKl+UJbofKJsBW",
      "include_colab_link": true
    },
    "kernelspec": {
      "name": "python3",
      "display_name": "Python 3"
    },
    "language_info": {
      "name": "python"
    }
  },
  "cells": [
    {
      "cell_type": "markdown",
      "metadata": {
        "id": "view-in-github",
        "colab_type": "text"
      },
      "source": [
        "<a href=\"https://colab.research.google.com/github/syrinesbaa/Assessment-of-CRM-for-dose-escalation-phase-I-oncology-clin/blob/main/ML_Models_to_forecast_Economic_Risk_Syrine_Sbaa_MITACS.ipynb\" target=\"_parent\"><img src=\"https://colab.research.google.com/assets/colab-badge.svg\" alt=\"Open In Colab\"/></a>"
      ]
    },
    {
      "cell_type": "code",
      "source": [
        "import pandas as pd\n",
        "import numpy as np\n",
        "import matplotlib.pyplot as plt\n",
        "\n",
        "import fredapi as fd #import the fredapi python package to help get live connection with FRED and extract the data needed because of the FRED apis"
      ],
      "metadata": {
        "id": "ifYXD9LOdcRR"
      },
      "execution_count": null,
      "outputs": []
    }
  ]
}