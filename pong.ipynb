{
  "nbformat": 4,
  "nbformat_minor": 0,
  "metadata": {
    "colab": {
      "provenance": [],
      "include_colab_link": true
    },
    "kernelspec": {
      "name": "python3",
      "display_name": "Python 3"
    },
    "language_info": {
      "name": "python"
    }
  },
  "cells": [
    {
      "cell_type": "markdown",
      "metadata": {
        "id": "view-in-github",
        "colab_type": "text"
      },
      "source": [
        "<a href=\"https://colab.research.google.com/github/syrinesbaa/Assessment-of-CRM-for-dose-escalation-phase-I-oncology-clin/blob/main/pong.ipynb\" target=\"_parent\"><img src=\"https://colab.research.google.com/assets/colab-badge.svg\" alt=\"Open In Colab\"/></a>"
      ]
    },
    {
      "cell_type": "code",
      "execution_count": null,
      "metadata": {
        "id": "aH0GKK7GOnPr"
      },
      "outputs": [],
      "source": [
        "#Model\n",
        "import numpy as np\n",
        "import torch\n",
        "from torch import nn\n",
        "from torch.nn import functional as F\n",
        "from PIL import Image\n",
        "import random\n",
        "\n",
        "class DQN(nn.Module):\n",
        "    def __init__(self):\n",
        "      pass\n",
        "\n",
        "class Policy(nn.Module):\n",
        "    def __init__(self):\n",
        "        super(Policy, self).__init__()\n",
        "\n",
        "        self.gamma = 0.99\n",
        "        self.eps_clip = 0.1\n",
        "\n",
        "        self.layers = nn.Sequential(\n",
        "            nn.Linear(6000*2, 512), nn.ReLU(),\n",
        "            nn.Linear(512, 2),\n",
        "        )\n",
        "\n",
        "    def state_to_tensor(self, I):\n",
        "        \"\"\" prepro 210x160x3 uint8 frame into 6000 (75x80) 1D float vector \"\"\"\n",
        "        if I is None:\n",
        "            return torch.zeros(1, 6000)\n",
        "        I = I[35:185] # crop - remove 35px from start & 25px from end of image in x, to reduce redundant parts of image (i.e. after ball passes paddle)\n",
        "        I = I[::2,::2,0] # downsample by factor of 2.\n",
        "        I[I == 144] = 0 # erase background (background type 1)\n",
        "        I[I == 109] = 0 # erase background (background type 2)\n",
        "        I[I != 0] = 1 # everything else (paddles, ball) just set to 1. this makes the image grayscale effectively\n",
        "        return torch.from_numpy(I.astype(np.float32).ravel()).unsqueeze(0)\n",
        "\n",
        "    def pre_process(self, x, prev_x):\n",
        "        #return self.state_to_tensor(x) - self.state_to_tensor(prev_x)\n",
        "        return torch.cat([self.state_to_tensor(x), self.state_to_tensor(prev_x)], dim=1)\n",
        "\n",
        "    def convert_action(self, action):\n",
        "        return action + 2\n",
        "\n",
        "    def forward(self, d_obs, action=None, action_prob=None, advantage=None, deterministic=False):\n",
        "        if action is None:\n",
        "            with torch.no_grad():\n",
        "                logits = self.layers(d_obs)\n",
        "                if deterministic:\n",
        "                    action = int(torch.argmax(logits[0]).detach().cpu().numpy())\n",
        "                    action_prob = 1.0\n",
        "                else:\n",
        "                    c = torch.distributions.Categorical(logits=logits)\n",
        "                    action = int(c.sample().cpu().numpy()[0])\n",
        "                    action_prob = float(c.probs[0, action].detach().cpu().numpy())\n",
        "                return action, action_prob\n",
        "        '''\n",
        "        # policy gradient (REINFORCE)\n",
        "        logits = self.layers(d_obs)\n",
        "        loss = F.cross_entropy(logits, action, reduction='none') * advantage\n",
        "        return loss.mean()\n",
        "        '''\n",
        "\n",
        "        # PPO\n",
        "        vs = np.array([[1., 0.], [0., 1.]])\n",
        "        ts = torch.FloatTensor(vs[action.cpu().numpy()])\n",
        "\n",
        "        logits = self.layers(d_obs)\n",
        "        r = torch.sum(F.softmax(logits, dim=1) * ts, dim=1) / action_prob\n",
        "        loss1 = r * advantage\n",
        "        loss2 = torch.clamp(r, 1-self.eps_clip, 1+self.eps_clip) * advantage\n",
        "        loss = -torch.min(loss1, loss2)\n",
        "        loss = torch.mean(loss)\n",
        "\n",
        "        return loss\n"
      ]
    },
    {
      "cell_type": "code",
      "source": [
        "from ale_py import ALEInterface\n",
        "import ale_py.roms as roms\n",
        "import gym"
      ],
      "metadata": {
        "id": "TdD9Qf68AHRM"
      },
      "execution_count": 24,
      "outputs": []
    },
    {
      "cell_type": "code",
      "source": [
        "#Test\n",
        "\n",
        "import gym\n",
        "import numpy as np\n",
        "import torch\n",
        "from torch import nn\n",
        "import time\n",
        "\n",
        "\n",
        "env = gym.make(\"PongNoFrameskip-v4\")\n",
        "\n",
        "env.reset()\n",
        "\n",
        "\n",
        "for episode in range(1):\n",
        "    prev_obs = None\n",
        "    obs = env.reset()\n",
        "    for t in range(190000):\n",
        "        #env.render()\n",
        "\n",
        "        d_obs = policy.pre_process(obs, prev_obs)\n",
        "        with torch.no_grad():\n",
        "            action, action_prob = policy(d_obs, deterministic=False)\n",
        "\n",
        "        prev_obs = obs\n",
        "        obs, reward, done, info = env.step(policy.convert_action(action))\n",
        "\n",
        "        if done:\n",
        "            print('Episode %d (%d timesteps) - Reward: %.2f' % (episode, t, reward))\n",
        "            break\n",
        "\n",
        "        #time.sleep(0.033)\n",
        "\n",
        "env.close()"
      ],
      "metadata": {
        "colab": {
          "base_uri": "https://localhost:8080/"
        },
        "id": "gD2zN8qzPv-i",
        "outputId": "0251f9e0-d4c2-4bd2-b6ae-a877eec9c59b"
      },
      "execution_count": 26,
      "outputs": [
        {
          "output_type": "stream",
          "name": "stderr",
          "text": [
            "/usr/local/lib/python3.10/dist-packages/gym/utils/passive_env_checker.py:227: DeprecationWarning: \u001b[33mWARN: Core environment is written in old step API which returns one bool instead of two. It is recommended to rewrite the environment with new step API. \u001b[0m\n"
          ]
        },
        {
          "output_type": "stream",
          "name": "stdout",
          "text": [
            "Episode 0 (3296 timesteps) - Reward: 0.00\n"
          ]
        }
      ]
    }
  ]
}